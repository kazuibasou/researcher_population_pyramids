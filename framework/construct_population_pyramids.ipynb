{
 "cells": [
  {
   "cell_type": "code",
   "execution_count": 1,
   "id": "initial_id",
   "metadata": {
    "ExecuteTime": {
     "end_time": "2025-07-19T15:43:54.283956Z",
     "start_time": "2025-07-19T15:43:52.756381Z"
    }
   },
   "outputs": [],
   "source": [
    "import time\n",
    "import population_pyramids, pickle\n",
    "import matplotlib.pyplot as plt\n",
    "import numpy as np\n",
    "import os\n",
    "import json\n",
    "from datetime import datetime"
   ]
  },
  {
   "cell_type": "markdown",
   "id": "070d360e-5a73-420b-b0d0-4b70e6c0a945",
   "metadata": {},
   "source": [
    "Set the following parameters in the configuration file:\n",
    "\n",
    "- ``input_data_name``: *string* type. File name of author data. The file ``<input_data_name>.jsonl`` must be placed in the ``researcher_population_pyramids/framework/data/`` directory.\n",
    "- ``base_year``: *int* type. The base year from which the population pyramid is extended for future projections (i.e., using observed data up to this year).\n",
    "- ``target_past_years``: *list* type. A list of specific past years for which to create the observed population pyramids. Each year must fall within the range of your provided publication data.\n",
    "- ``t_max_projection``: *int* type. The maximum year up to which population pyramid projections are generated.\n",
    "- ``survival_prob_threshold``: *float* type. The threshold for the survival probability of an author's inter-publication interval, used to identify \"active\" authors. (e.g., 0.01 was used in our manuscript.)"
   ]
  },
  {
   "cell_type": "code",
   "execution_count": 2,
   "id": "608897b0f80415d5",
   "metadata": {
    "ExecuteTime": {
     "end_time": "2025-07-19T15:43:54.286950Z",
     "start_time": "2025-07-19T15:43:54.285161Z"
    }
   },
   "outputs": [],
   "source": [
    "input_data_name = 'author_sample_lst'\n",
    "base_year = 2023\n",
    "target_past_years = [2010, 2023]\n",
    "t_max_projection = 2050\n",
    "survival_prob_threshold = 0.01"
   ]
  },
  {
   "cell_type": "code",
   "execution_count": 3,
   "id": "9b9d2d99-2dd9-48a3-8d78-a50545a53591",
   "metadata": {},
   "outputs": [
    {
     "name": "stdout",
     "output_type": "stream",
     "text": [
      "Number of authors: 191086, Number of female authors: 81570, Number of male authors: 109516\n",
      "Oldest publication year in the data: 1950, Newest publication year in the data: 2023\n"
     ]
    }
   ],
   "source": [
    "f_path = './data/' + input_data_name + '.jsonl'\n",
    "with open(f_path) as f:\n",
    "    author_sample_lst = [json.loads(l) for l in f.readlines()]\n",
    "\n",
    "female_count, male_count = 0, 0\n",
    "pub_y_lst = []\n",
    "for author in author_sample_lst:\n",
    "    g = author[\"gender\"]\n",
    "    if g == 0:\n",
    "        female_count += 1\n",
    "    elif g == 1:\n",
    "        male_count += 1\n",
    "    for pub_d in author[\"pub_date_lst\"]:\n",
    "        pub_y_lst.append(datetime.strptime(str(pub_d), '%Y-%m-%d').year)\n",
    "\n",
    "t_min, t_max = min(pub_y_lst), max(pub_y_lst)\n",
    "\n",
    "print(f\"Number of authors: {female_count + male_count}, Number of female authors: {female_count}, Number of male authors: {male_count}\")\n",
    "print(f\"Oldest publication year in the data: {t_min}, Newest publication year in the data: {t_max}\")"
   ]
  },
  {
   "cell_type": "code",
   "execution_count": 4,
   "id": "ac70af75-ba6d-4cc4-bda1-0d636edc71fa",
   "metadata": {},
   "outputs": [
    {
     "name": "stdout",
     "output_type": "stream",
     "text": [
      "Computing researcher population pyramids...\n",
      "Inter-publication threshold (in years): Female 14.676712328767124, Male 14.775342465753425\n",
      "Elapsed time:  66.93786025047302\n",
      "Number of active authors in 2023: 79913.0, Number of newly active authors in 2023: 7955, Researcher inflow in 2023: 0.09954575600966051\n",
      "Female mean of the cumulative productivity in 2023: 9.314077713000502, Male mean of the cumulative productivity in 2023: 11.984584363210615, Gender gap in cumulative productivity in 2023: -22.28\n"
     ]
    }
   ],
   "source": [
    "researcher_population_pyramid = {}\n",
    "\n",
    "print(\"Computing researcher population pyramids...\")\n",
    "\n",
    "t_s = time.time()\n",
    "\n",
    "(female_survival_probability, male_survival_probability) = population_pyramids.calc_survival_probability_for_publication_interval(input_data_name)\n",
    "\n",
    "pub_interval_threshold = population_pyramids.calc_threshold_for_publication_interval(female_survival_probability, male_survival_probability, survival_prob_threshold)\n",
    "\n",
    "print(f\"Inter-publication threshold (in years): Female {float(pub_interval_threshold[0])/365}, Male {float(pub_interval_threshold[1])/365}\")\n",
    "\n",
    "for target_year in target_past_years:\n",
    "    female_productivity, male_productivity, female_count, male_count = population_pyramids.calc_researcher_population_pyramid(input_data_name, pub_interval_threshold, target_year)\n",
    "    researcher_population_pyramid[target_year] = (female_count, male_count)\n",
    "\n",
    "target_year = t_max_projection\n",
    "future_female_count, future_male_count, female_prob, male_prob, female_newcomer_count, male_newcomer_count = population_pyramids.calc_future_researcher_population_pyramid(input_data_name, pub_interval_threshold, base_year, target_year)\n",
    "researcher_population_pyramid[target_year] = (future_female_count, future_male_count, female_prob, male_prob, female_newcomer_count, male_newcomer_count)\n",
    "\n",
    "t_e = time.time()\n",
    "\n",
    "print(\"Elapsed time: \", t_e - t_s)\n",
    "\n",
    "(female_count, male_count, female_prob, male_prob, female_newcomer_count, male_newcomer_count) = researcher_population_pyramid[t_max_projection]\n",
    "\n",
    "total_active = np.sum(list(female_count[base_year].values())) + np.sum(list(male_count[base_year].values()))\n",
    "total_female = np.sum(list(female_count[base_year].values()))\n",
    "total_male = np.sum(list(male_count[base_year].values()))\n",
    "newcomer_count = np.sum(list(female_newcomer_count.values())) + np.sum(list(male_newcomer_count.values()))\n",
    "inflow_ratio = float(newcomer_count) / total_active\n",
    "print(f\"Number of active authors in {t_max}: {total_active}, Number of newly active authors in {t_max}: {newcomer_count}, Researcher inflow in {t_max}: {inflow_ratio}\")\n",
    "\n",
    "car_mat_f = float(np.sum([k * female_count[base_year][k] for k in female_count[base_year]])) / total_female\n",
    "car_mat_m = float(np.sum([k * male_count[base_year][k] for k in male_count[base_year]])) / total_male\n",
    "car_mat_gender_gap = str('{:.2f}'.format(100 * float(car_mat_f - car_mat_m) / car_mat_m))\n",
    "print(f\"Female mean of the cumulative productivity in {t_max}: {car_mat_f}, Male mean of the cumulative productivity in {t_max}: {car_mat_m}, Gender gap in cumulative productivity in {t_max}: {car_mat_gender_gap}\")\n",
    "    \n",
    "# f_path = (\"./data/researcher_population_pyramid.pkl\")\n",
    "# with open(f_path, \"wb\") as f:\n",
    "#     pickle.dump(researcher_population_pyramid, f)"
   ]
  },
  {
   "cell_type": "markdown",
   "id": "2dfcb283-4312-44a6-8f3f-fbb2fe01a43b",
   "metadata": {},
   "source": [
    "The following files will be generated in the `researcher_population_pyramids/framework/data/` directory:\n",
    "\n",
    "- `female_author_count.csv`: For each cumulative productivity, the number of female active authors is shown for each year (observed years in *target_past_years* and projected years from *base_year + 1* to *t_max_projection*).\n",
    "- `female_inflow_<base_year>.csv`: For each cumulative productivity, the number of female newly active authors in year *base_year* is shown.\n",
    "- `female_trans_prob_from_<base_year-1>_to_<base_year>.csv`: The probability that a female active author with cumulative productivity *k_1* in *base_year-1* transitions to cumulative productivity *k_2* in *base_year*.\n",
    "- `male_author_count.csv`: For each cumulative productivity, the number of male active authors is shown for each year (observed years in *target_past_years* and projected years from *base_year + 1* to *t_max_projection*).\n",
    "- `male_inflow_<base_year>.csv`: For each cumulative productivity, the number of male newly active authors in year *base_year* is shown.\n",
    "- `male_trans_prob_from_<base_year-1>_to_<base_year>.csv`: The probability that a male active author with cumulative productivity *k_1* in *base_year-1* transitions to cumulative productivity *k_2* in *base_year*."
   ]
  },
  {
   "cell_type": "code",
   "execution_count": 5,
   "id": "f1db9b88-ce56-435d-9dc4-cdb5759d28b4",
   "metadata": {},
   "outputs": [],
   "source": [
    "population_pyramids.save(researcher_population_pyramid, target_past_years, base_year, t_max_projection)"
   ]
  },
  {
   "cell_type": "code",
   "execution_count": 6,
   "id": "27512cbd66e6183c",
   "metadata": {},
   "outputs": [],
   "source": [
    "def plot_researcher_population_pyramid(female_count, male_count, base_year, target_year, max_n=1000000, max_productivity=100):\n",
    "    \n",
    "    fontsize = 30\n",
    "    plt.rcParams[\"font.size\"] = fontsize\n",
    "    \n",
    "    fig, ax = plt.subplots(ncols=2, figsize=(15, 10))\n",
    "    \n",
    "    # Female\n",
    "    y, x = [], []\n",
    "    for n in range(1, max_productivity+1):\n",
    "        if female_count.get(n, 0) > 0:\n",
    "            y.append(n)\n",
    "            x.append(female_count.get(n, 0))\n",
    "        else:\n",
    "            y.append(n)\n",
    "            x.append(0.1)\n",
    "    ax[0].barh(y, x, color='darkgreen', height=0.5, label='Female', log=True)\n",
    "    ax[0].yaxis.tick_right()\n",
    "    ax[0].set_yticks(np.array(range(0, max_productivity + 1, 10)))\n",
    "    ax[1].set_yticklabels([])\n",
    "    ax[0].set_xlim([max_n, 1])\n",
    "    ax[0].set_xlabel('Number of authors')\n",
    "    ax[0].set_title('Female')\n",
    "    \n",
    "    # Male\n",
    "    y, x = [], []\n",
    "    for n in range(1, max_productivity+1):\n",
    "        if female_count.get(n, 0) > 0:\n",
    "            y.append(n)\n",
    "            x.append(male_count.get(n, 0))\n",
    "        else:\n",
    "            y.append(n)\n",
    "            x.append(0.1)\n",
    "    ax[1].barh(y, x,\n",
    "               color='orange', height=0.5, label='Male', log=True)\n",
    "    ax[1].set_yticks(np.array(range(0, max_productivity + 1, 10)))\n",
    "    ax[1].set_xlim([1, max_n])\n",
    "    ax[1].set_title('Male')\n",
    "    \n",
    "    fig.text(0.51, 0.5, 'Cumulative productivity', va='center', ha='center', \n",
    "             rotation='vertical', fontsize=fontsize)\n",
    "    \n",
    "    plt.subplots_adjust(left=0.05, right=0.95, bottom=0.12, top=0.95, wspace=0.33)\n",
    "\n",
    "    if not os.path.exists('./figs'):\n",
    "        os.makedirs('./figs')\n",
    "    \n",
    "    # fig.legend(loc='upper right')\n",
    "    # plt.show()\n",
    "    if base_year == \"\":\n",
    "        plt.savefig('./figs/researcher_population_pyramid_' + str(target_year) + '.pdf')\n",
    "    else:\n",
    "        plt.savefig('./figs/researcher_population_pyramid_' + str(target_year) + \"_based_on_\" + str(base_year) + '.pdf')\n",
    "    plt.clf()\n",
    "    plt.close()\n",
    "    \n",
    "    return"
   ]
  },
  {
   "cell_type": "markdown",
   "id": "c7a25896-9b73-4f0c-9768-427fed2e94ee",
   "metadata": {},
   "source": [
    "The following figures will be generated in the `researcher_population_pyramids/framework/figs/` directory:\n",
    "\n",
    "- `researcher_population_pyramid_<target_past_year>.pdf`: Population pyramid for each year in *target_past_years*.\n",
    "- `researcher_population_pyramid_<t_max_projection>_based_on_<base_year>.pdf`: Population pyramid for the *t_max_projection* year, predicted based on *base_year* data."
   ]
  },
  {
   "cell_type": "code",
   "execution_count": 7,
   "id": "1925e9ba99d80ea1",
   "metadata": {},
   "outputs": [],
   "source": [
    "# f_path = (\"./data/researcher_population_pyramid.pkl\")\n",
    "# with open(f_path, mode=\"rb\") as f:\n",
    "#     researcher_population_pyramid = pickle.load(f)\n",
    "\n",
    "for target_year in target_past_years:\n",
    "    base_year = \"\"\n",
    "    (female_count, male_count) = researcher_population_pyramid[target_year]\n",
    "    plot_researcher_population_pyramid(female_count, male_count, base_year, target_year, max_n=1000000, max_productivity=100)\n",
    "\n",
    "base_year, target_year = t_max, t_max_projection\n",
    "(female_count, male_count, female_prob, male_prob, female_newcomer_count, male_newcomer_count) = researcher_population_pyramid[target_year]\n",
    "plot_researcher_population_pyramid(female_count[target_year], male_count[target_year], base_year, target_year, max_n=1000000, max_productivity=100)"
   ]
  }
 ],
 "metadata": {
  "kernelspec": {
   "display_name": "Python 3 (ipykernel)",
   "language": "python",
   "name": "python3"
  },
  "language_info": {
   "codemirror_mode": {
    "name": "ipython",
    "version": 3
   },
   "file_extension": ".py",
   "mimetype": "text/x-python",
   "name": "python",
   "nbconvert_exporter": "python",
   "pygments_lexer": "ipython3",
   "version": "3.10.15"
  }
 },
 "nbformat": 4,
 "nbformat_minor": 5
}
